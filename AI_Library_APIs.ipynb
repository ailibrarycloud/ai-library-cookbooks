{
  "nbformat": 4,
  "nbformat_minor": 0,
  "metadata": {
    "colab": {
      "provenance": [],
      "toc_visible": true
    },
    "kernelspec": {
      "name": "python3",
      "display_name": "Python 3"
    },
    "language_info": {
      "name": "python"
    }
  },
  "cells": [
    {
      "cell_type": "markdown",
      "source": [
        "#"
      ],
      "metadata": {
        "id": "Rj224aav8iDj"
      }
    },
    {
      "cell_type": "code",
      "execution_count": 41,
      "metadata": {
        "id": "2Q3fdcj4eoFG"
      },
      "outputs": [],
      "source": [
        "from google.colab import userdata\n",
        "import requests\n",
        "import json\n",
        "key = userdata.get('X-Library-Key')\n",
        "domain = userdata.get('baseUrl')\n",
        "\n",
        "headers = {\n",
        "    'Content-Type': 'application/json',\n",
        "    'X-Library-Key': key\n",
        "}"
      ]
    },
    {
      "cell_type": "markdown",
      "source": [
        "## Agents"
      ],
      "metadata": {
        "id": "pHeZwKIFghin"
      }
    },
    {
      "cell_type": "markdown",
      "source": [
        "### Create Agent"
      ],
      "metadata": {
        "id": "j4_o7N91hjJA"
      }
    },
    {
      "cell_type": "code",
      "source": [
        "namespace = \"burger-singh-franchise\""
      ],
      "metadata": {
        "id": "A32myhW1hl4e"
      },
      "execution_count": 13,
      "outputs": []
    },
    {
      "cell_type": "markdown",
      "source": [
        "### Retrieve Agent"
      ],
      "metadata": {
        "id": "VFV9vnaafmkq"
      }
    },
    {
      "cell_type": "code",
      "source": [
        "url = f\"{domain}/v1/agent/{namespace}\"\n",
        "response = requests.request(\"GET\", url, headers=headers)\n",
        "\n",
        "print(json.dumps(json.loads(response.text), indent=4))"
      ],
      "metadata": {
        "collapsed": true,
        "id": "Q9ZTKGTJfd1u"
      },
      "execution_count": null,
      "outputs": []
    },
    {
      "cell_type": "markdown",
      "source": [
        "### Update Agent"
      ],
      "metadata": {
        "id": "kO86jldekdIx"
      }
    },
    {
      "cell_type": "code",
      "source": [
        "url=f\"{domain}/v1/agent/{namespace}\"\n",
        "\n",
        "payload = json.dumps({\n",
        "  \"type\": \"notebook\",\n",
        "  \"coverimage\": \"https://www.burgersinghonline.com/wp-content/themes/burger-singh/front/images/logo-v=0.1.png\",\n",
        "  \"title\": \"Burger Singh Franchise\",\n",
        "  \"description\": \"Ask me how to start a Burger Singh Franchise\",\n",
        "  \"intromessage\": \"Hello. Are you looking to open a Burger Singh Franchise?\",\n",
        "  \"instructions\": \"You are Mr. Singh (he/him) a helpful assistant trying to qualify a lead for franchise request. Answer the questions based on the information you are given. If answer is not available in the context, try to redirect the conversation back to filling the form. Answer in English or Hindi only. \",\n",
        "  \"company\": \"Burger Singh\",\n",
        "  \"knowledge_search\": \"true\",\n",
        "  \"knowledge_id\": \"BurgerSing_1733206677149149\",\n",
        "  \"form_filling\": \"true\",\n",
        "  \"languages\": [\n",
        "    \"en-US\"\n",
        "  ],\n",
        "  \"voice_id\": \"cgSgspJ2msm6clMCkdW9\"\n",
        "})\n",
        "\n",
        "response = requests.request(\"PUT\", url, headers=headers, data=payload)\n",
        "\n",
        "print(json.dumps(json.loads(response.text), indent=4))"
      ],
      "metadata": {
        "id": "c2o6cgK2khKt"
      },
      "execution_count": null,
      "outputs": []
    },
    {
      "cell_type": "markdown",
      "source": [
        "### Chat"
      ],
      "metadata": {
        "id": "sT4sgrGKmhRD"
      }
    },
    {
      "cell_type": "code",
      "source": [
        "url = f\"{domain}/v1/agent/{namespace}/chat\"\n",
        "payload = json.dumps({\n",
        "  \"session_id\": \"niusjndckj23\",\n",
        "  \"messages\": [\n",
        "    { \"role\": \"assistant\", \"content\": \"how are you?\" },\n",
        "    { \"role\": \"user\", \"content\": \"doing good. thank you.\" }\n",
        "  ]\n",
        "})\n",
        "\n",
        "response = requests.request(\"POST\", url, headers=headers, data=payload)\n",
        "\n",
        "print(response.text)\n"
      ],
      "metadata": {
        "collapsed": true,
        "id": "gTmas-fhmuKP"
      },
      "execution_count": null,
      "outputs": []
    },
    {
      "cell_type": "markdown",
      "source": [
        "## Knowledge Base"
      ],
      "metadata": {
        "id": "a9lTk_FKsvHh"
      }
    },
    {
      "cell_type": "markdown",
      "source": [
        "### Create a Knowledge Base"
      ],
      "metadata": {
        "id": "UtAoy8sNs7cs"
      }
    },
    {
      "cell_type": "code",
      "source": [
        "url = f\"{domain}/v1/knowledgebase\"\n",
        "payload = json.dumps({\n",
        "  \"name\": \"portland general electic revenue\"\n",
        "})\n",
        "\n",
        "response = requests.request(\"GET\", url, headers=headers, data=payload)\n",
        "print(json.dumps(json.loads(response.text), indent=4))"
      ],
      "metadata": {
        "id": "d3h6ta1rs6hW"
      },
      "execution_count": null,
      "outputs": []
    },
    {
      "cell_type": "code",
      "source": [
        "knowledgeId = \"portlandge_1732857587528941\""
      ],
      "metadata": {
        "id": "FO2_5ay3vRUJ"
      },
      "execution_count": 45,
      "outputs": []
    },
    {
      "cell_type": "markdown",
      "source": [
        "### List Knowledge Bases"
      ],
      "metadata": {
        "id": "LJnZoTEJt_eD"
      }
    },
    {
      "cell_type": "code",
      "source": [
        "url = f\"{domain}/v1/knowledgebase\"\n",
        "response = requests.request(\"GET\", url, headers=headers, data=payload)\n",
        "print(json.dumps(json.loads(response.text), indent=4))"
      ],
      "metadata": {
        "collapsed": true,
        "id": "vbnCBznct-wz"
      },
      "execution_count": null,
      "outputs": []
    },
    {
      "cell_type": "markdown",
      "source": [
        "### Retrieve a Knowledge Base"
      ],
      "metadata": {
        "id": "p92Ex36du66r"
      }
    },
    {
      "cell_type": "code",
      "source": [
        "url = f\"{domain}/v1/knowledgebase/{knowledgeId}\"\n",
        "response = requests.request(\"GET\", url, headers=headers, data=payload)\n",
        "print(json.dumps(json.loads(response.text), indent=4))"
      ],
      "metadata": {
        "collapsed": true,
        "id": "-QkVGx3qvC7F"
      },
      "execution_count": null,
      "outputs": []
    },
    {
      "cell_type": "markdown",
      "source": [
        "### Add Source to Knowledge Base"
      ],
      "metadata": {
        "id": "nTsaTaIjv0_X"
      }
    },
    {
      "cell_type": "code",
      "source": [
        "url = f\"{domain}/v1/knowledgebase/{knowledgeId}\"\n",
        "payload = json.dumps({\n",
        "  \"type\": \"docs\",\n",
        "  \"options\": {\n",
        "    \"urls\": [\n",
        "      \"https://assets.ctfassets.net/416ywc1laqmd/7oJfDqN7x2Bjj3bXiP3WHR/5866c87cd89c15987bbb7211bfc3f3cc/Update_11_17_23.pdf\"\n",
        "    ]\n",
        "  },\n",
        "  \"meta\": {\n",
        "    \"folder\": \"home\"\n",
        "  }\n",
        "})\n",
        "response = requests.request(\"PUT\", url, headers=headers, data=payload)\n",
        "print(json.dumps(json.loads(response.text), indent=4))"
      ],
      "metadata": {
        "id": "_apSOozWv4HL"
      },
      "execution_count": null,
      "outputs": []
    },
    {
      "cell_type": "markdown",
      "source": [
        "### Knowledge Base Status\n",
        "\n"
      ],
      "metadata": {
        "id": "vTFZN7O4wYG6"
      }
    },
    {
      "cell_type": "code",
      "source": [
        "url = f\"{domain}/v1/knowledgebase/{knowledgeId}/status\"\n",
        "response = requests.request(\"GET\", url, headers=headers)\n",
        "print(json.dumps(json.loads(response.text), indent=4))"
      ],
      "metadata": {
        "id": "GLTLqlbF0Mbh"
      },
      "execution_count": null,
      "outputs": []
    },
    {
      "cell_type": "markdown",
      "source": [
        "### Retrieve Source Details"
      ],
      "metadata": {
        "id": "A_UOTHOd_8hK"
      }
    },
    {
      "cell_type": "code",
      "source": [
        "source = \"Update_11_17_23.pdf\"\n",
        "url = f\"{domain}/v1/knowledgebase/{knowledgeId}/{source}\"\n",
        "response = requests.request(\"GET\", url, headers=headers)\n",
        "print(json.dumps(json.loads(response.text), indent=4))"
      ],
      "metadata": {
        "collapsed": true,
        "id": "24nVNb1VzdvV"
      },
      "execution_count": null,
      "outputs": []
    },
    {
      "cell_type": "markdown",
      "source": [
        "### List Sources"
      ],
      "metadata": {
        "id": "4sxxYKZRAt3U"
      }
    },
    {
      "cell_type": "code",
      "source": [
        "url = f\"{domain}/v1/knowledgebase/{knowledgeId}/sources\"\n",
        "response = requests.request(\"GET\", url, headers=headers)\n",
        "print(json.dumps(json.loads(response.text), indent=4))"
      ],
      "metadata": {
        "collapsed": true,
        "id": "P2nkrztTAoTD"
      },
      "execution_count": null,
      "outputs": []
    },
    {
      "cell_type": "markdown",
      "source": [
        "### Delete Sources\n",
        "Delete sources from a knowledge base."
      ],
      "metadata": {
        "id": "ddCwduF7BD_4"
      }
    },
    {
      "cell_type": "code",
      "source": [
        "url = f\"{domain}/v1/knowledgebase/{knowledgeId}/source\"\n",
        "payload = json.dumps({\n",
        "      \"values\": [\n",
        "          \"Update_11_17_23.pdf\"\n",
        "      ]\n",
        "  })\n",
        "response = requests.request(\"DELETE\", url, headers=headers, data=payload)\n",
        "print(json.dumps(json.loads(response.text), indent=4))"
      ],
      "metadata": {
        "id": "9uCAK4wwBFQp"
      },
      "execution_count": null,
      "outputs": []
    },
    {
      "cell_type": "markdown",
      "source": [
        "## Utilities"
      ],
      "metadata": {
        "id": "-Rjo0xdaFo7d"
      }
    },
    {
      "cell_type": "markdown",
      "source": [
        "### Web Search"
      ],
      "metadata": {
        "id": "mudz84vuFtgS"
      }
    },
    {
      "cell_type": "code",
      "source": [
        "url = f\"{domain}/v1/utilities/websearch\"\n",
        "payload = json.dumps({\n",
        "  \"search_terms\": [\"artificial intelligence\", \"retireval augmented generation\"]\n",
        "})\n",
        "response = requests.request(\"POST\", url, headers=headers, data=payload)\n",
        "print(json.dumps(json.loads(response.text), indent=4))"
      ],
      "metadata": {
        "id": "TxtGohP9F5fU"
      },
      "execution_count": null,
      "outputs": []
    },
    {
      "cell_type": "markdown",
      "source": [
        "### Web Parser"
      ],
      "metadata": {
        "id": "tsWiKNNsGacc"
      }
    },
    {
      "cell_type": "code",
      "source": [
        "url = f\"{domain}/v1/utilities/webparser\"\n",
        "payload = json.dumps({\n",
        "  \"urls\": [\"https://portlandgeneral.com/about/info/rates-and-regulatory/tariff\"]\n",
        "})\n",
        "response = requests.request(\"POST\", url, headers=headers, data=payload)\n",
        "print(json.dumps(json.loads(response.text), indent=4))"
      ],
      "metadata": {
        "id": "IQ6hmDH8GcOt"
      },
      "execution_count": null,
      "outputs": []
    }
  ]
}